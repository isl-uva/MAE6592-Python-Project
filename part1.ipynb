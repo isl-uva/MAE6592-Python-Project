{
 "cells": [
  {
   "cell_type": "markdown",
   "metadata": {},
   "source": [
    "# MAE6592 Python Assignment: Part I\n",
    "\n",
    "By Intelligent System Lab, University of Virginia\n"
   ]
  },
  {
   "cell_type": "markdown",
   "metadata": {},
   "source": [
    "## 1. Preparation\n",
    "\n",
    "Prepare the environment for production line simulation."
   ]
  },
  {
   "cell_type": "code",
   "execution_count": 2,
   "metadata": {},
   "outputs": [],
   "source": [
    "import numpy as np\n",
    "import pandas as pd\n",
    "import matplotlib.pyplot as plt"
   ]
  },
  {
   "cell_type": "markdown",
   "metadata": {},
   "source": [
    "#### This script leverages three existing packages\n",
    "\n",
    "    1. numpy:  scientific calculations\n",
    "        Documentation: https://numpy.org/doc/stable/\n",
    "    2. pandas: data management\n",
    "        Documentation: https://pandas.pydata.org/docs/\n",
    "    3. matplotlib.pyplot: plotting\n",
    "        Documentation: https://matplotlib.org/api/pyplot_api.html"
   ]
  },
  {
   "cell_type": "markdown",
   "metadata": {},
   "source": [
    "The below codes construct a python 'class' for the serial production line."
   ]
  },
  {
   "cell_type": "code",
   "execution_count": 3,
   "metadata": {},
   "outputs": [],
   "source": [
    "class serial_line:\n",
    "    def __init__(self, cycle_time, buffer_capacity, buffer_initial=-1):\n",
    "        \"\"\"\n",
    "        Arguments:\n",
    "            cycle_time: the cycle time of each machine in minute, list or numpy array\n",
    "            buffer_capacity: the maximum capacity of each buffer, list or numpy array\n",
    "            buffer_initial: the initial buffer level of each buffer, zeros by default, list or numpy array\n",
    "                            \n",
    "        \"\"\"\n",
    "        self.M = len(cycle_time)                #length of the serial line\n",
    "        self.ct = cycle_time                    #cycle time\n",
    "        self.bc = buffer_capacity               #buffer capacity\n",
    "        self.slowest = np.argmax(self.ct)       #find the slowest machine\n",
    "        \n",
    "        if buffer_initial == -1:\n",
    "            self.bi = np.zeros(self.M - 1)        #if initial buffer levels are not specified, start from zero\n",
    "        else:\n",
    "            self.bi = np.array(buffer_initial)  #initial buffer level\n",
    "        \n",
    "        \"\"\"calculate buffer boundary\"\"\"\n",
    "        self.beta = np.zeros((self.M, self.M))\n",
    "        for i in range(self.M):\n",
    "            for j in range(self.M):\n",
    "                self.beta[i, j] = (sum(self.bc[i:j]) - sum(self.bi[i:j]))\\\n",
    "                *(i < j) + sum(self.bi[j:i]) * (i > j)\n",
    "\n",
    "    def run(self, T, downtime, decimal=0):\n",
    "        \"\"\"\n",
    "        Arguments:\n",
    "            T: the total simulation time length in minute, int\n",
    "            downtime: the downtime/ow you want to insert, tuple or list\n",
    "                      ([[1st_timeofow,1st_durationofow],[2nd_timeofow,2nd_durationofow]]     #machine 1\n",
    "                      [],                                                                    #machine 2, blank list if no ow inserted\n",
    "                      ...,                                                                   #...\n",
    "                      [[1st_timeofow,1st_durationofow]])                                     #machine M\n",
    "            decimal: the decimals in the simulation time horizon, zero by default, int\n",
    "        Return:\n",
    "            stepwise buffer levels\n",
    "            stepwise production counts\n",
    "        \"\"\"\n",
    "        tpoints = T * (10**decimal) + 1\n",
    "\n",
    "        b = np.zeros((self.M-1, tpoints))         #buffer level\n",
    "        b[:,0] = self.bi                         #initial buffer level\n",
    "        pc = np.zeros((self.M, tpoints))          #production counts\n",
    "        \n",
    "        self.w = np.zeros((self.M, tpoints))      #generate downtime list according to downtime input\n",
    "        for i in range(self.M):\n",
    "            for j in downtime[i]:\n",
    "                self.w[i, int(np.round(j[0]*(10**decimal))):\\\n",
    "                       int(np.round((j[0]+j[1])*(10**decimal)))] = 1         #w=1 if the machine is down at the time step\n",
    "        \n",
    "        for t in range(1,tpoints):\n",
    "            pc[:,t] = pc[:, t-1] + (1 - self.w[:, t-1]) / self.ct / (10**decimal)\n",
    "            for i in range(self.M):\n",
    "                temp = self.beta[i, :] + pc[:, t]\n",
    "                pc[i, t] = np.min(temp)\n",
    "            b[:, t] = pc[:self.M-1, t] - pc[1:, t] + self.bi                          #calculate buffer levels\n",
    "        \n",
    "        time = np.round(np.linspace(0, T, tpoints), decimals=decimal)             #generate time steps\n",
    "        self.b = pd.DataFrame(b.T,\n",
    "                              index=time,\n",
    "                              columns=[\"B\" + str(x) for x in range(2, self.M+1)]) #store results to pandas dataframe\n",
    "        self.b = self.b.round(np.max((6, decimal)))                             #round results to remove numerical errors\n",
    "        \n",
    "        self.pc = pd.DataFrame(pc.T,\n",
    "                               index=time,\n",
    "                               columns=[\"M\" + str(x) for x in range(1, self.M+1)])\n",
    "        self.pc = self.pc.round(np.max((6, decimal)))\n",
    "        \n",
    "        return self.b, self.pc"
   ]
  },
  {
   "cell_type": "markdown",
   "metadata": {},
   "source": [
    "## 2. Parameter Setting\n",
    "\n",
    "Follow the steps to set your parameters."
   ]
  },
  {
   "cell_type": "code",
   "execution_count": 4,
   "metadata": {},
   "outputs": [],
   "source": [
    "\"\"\"Input parameters for assignment 1\"\"\"\n",
    "\n",
    "\"\"\"Input cylce time (minunte)\"\"\"\n",
    "cycle_time = [1/5,\n",
    "              1/2,\n",
    "              1/4,\n",
    "              1/3]\n",
    "\n",
    "\"\"\"Input maximum buffer capacities (parts)\"\"\"\n",
    "buffer_capacity = [100,\n",
    "                   200,\n",
    "                   200]\n",
    "\n",
    "\"\"\"Input initial buffer levels (parts)\"\"\"\n",
    "buffer_initial = [50,\n",
    "                  100,\n",
    "                  100]\n",
    "\n",
    "\"\"\"Input opportunity windows\"\"\"\n",
    "tow1 = 0\n",
    "pow1 = 1\n",
    "\n",
    "\"\"\"Input simulation time length (minute)\"\"\"\n",
    "T = 8 * 60"
   ]
  },
  {
   "cell_type": "markdown",
   "metadata": {},
   "source": [
    "#### *In assignment 1, you are not required to change the codes below this line.*\n",
    "==============================================================================="
   ]
  },
  {
   "cell_type": "markdown",
   "metadata": {},
   "source": [
    "## 3. Execution\n",
    "\n",
    "With the parameters given in previous section, the simulation is excetuted in this cell."
   ]
  },
  {
   "cell_type": "code",
   "execution_count": 5,
   "metadata": {},
   "outputs": [],
   "source": [
    "downtime=([[100, tow1*pow1]],\n",
    "           [],\n",
    "           [],\n",
    "           [])\n",
    "\n",
    "line1 = serial_line(cycle_time, buffer_capacity, buffer_initial)     #construct serial production line with the given parameters\n",
    "b, pc = line1.run(T, downtime, decimal=2)                             #run the serial production line and get results\n"
   ]
  },
  {
   "cell_type": "markdown",
   "metadata": {},
   "source": [
    "## 4. Result Interpretation\n",
    "\n",
    "### Final Production Count"
   ]
  },
  {
   "cell_type": "code",
   "execution_count": 6,
   "metadata": {},
   "outputs": [
    {
     "name": "stdout",
     "output_type": "stream",
     "text": [
      "\n",
      "Production Count of Machine 1 = 1010.0\n",
      "Production Count of Machine 2 = 960.0\n",
      "Production Count of Machine 3 = 1060.0\n",
      "Production Count of Machine 4 = 1160.0 \n",
      "\n"
     ]
    }
   ],
   "source": [
    "print(\"\\nProduction Count of Machine 1 =\", pc.M1.iloc[-1])             #index -1 points to the last element\n",
    "print(\"Production Count of Machine 2 =\", pc.M2.iloc[-1])\n",
    "print(\"Production Count of Machine 3 =\", pc.M3.iloc[-1])\n",
    "print(\"Production Count of Machine 4 =\", pc.M4.iloc[-1],\"\\n\")"
   ]
  },
  {
   "cell_type": "markdown",
   "metadata": {},
   "source": [
    "### Buffer Level"
   ]
  },
  {
   "cell_type": "code",
   "execution_count": 7,
   "metadata": {},
   "outputs": [
    {
     "name": "stdout",
     "output_type": "stream",
     "text": [
      "\n",
      "Buffer Level of Buffer 2 at t = 100 mins = 100.0\n",
      "Buffer Level of Buffer 3 at t = 100 mins = -0.0\n",
      "Buffer Level of Buffer 4 at t = 100 mins = 100.0 \n",
      "\n"
     ]
    }
   ],
   "source": [
    "print(\"\\nBuffer Level of Buffer 2 at t = 100 mins =\", b.B2[100])\n",
    "print(\"Buffer Level of Buffer 3 at t = 100 mins =\", b.B3[100])\n",
    "print(\"Buffer Level of Buffer 4 at t = 100 mins =\", b.B4[100], \"\\n\")"
   ]
  },
  {
   "cell_type": "markdown",
   "metadata": {},
   "source": [
    "### Visualization"
   ]
  },
  {
   "cell_type": "code",
   "execution_count": 8,
   "metadata": {},
   "outputs": [],
   "source": [
    "if pow1 == 1 and tow1 == 0:\n",
    "    filenum = \"1\"\n",
    "elif pow1 == 1 and tow1 != 0:\n",
    "    filenum = \"2\"\n",
    "elif pow1 == 2 and tow1!=0:\n",
    "    filenum = \"3\""
   ]
  },
  {
   "cell_type": "code",
   "execution_count": 9,
   "metadata": {
    "scrolled": true
   },
   "outputs": [
    {
     "data": {
      "text/plain": [
       "<Figure size 432x288 with 0 Axes>"
      ]
     },
     "metadata": {},
     "output_type": "display_data"
    },
    {
     "data": {
      "image/png": "[encoded data removed]",
      "text/plain": [
       "<Figure size 432x288 with 1 Axes>"
      ]
     },
     "metadata": {
      "needs_background": "light"
     },
     "output_type": "display_data"
    }
   ],
   "source": [
    "plt.figure()\n",
    "pc.plot()\n",
    "plt.ylabel(\"Production Count (parts)\")\n",
    "plt.xlabel(\"Time (min)\")\n",
    "plt.title(\"Production Count Graph {}\".format(filenum))\n",
    "plt.savefig(\"PC{}.png\".format(filenum), dpi=500)\n",
    "plt.show()"
   ]
  },
  {
   "cell_type": "code",
   "execution_count": 10,
   "metadata": {},
   "outputs": [
    {
     "data": {
      "image/png": "[encoded data removed]",
      "text/plain": [
       "<Figure size 432x288 with 1 Axes>"
      ]
     },
     "metadata": {
      "needs_background": "light"
     },
     "output_type": "display_data"
    }
   ],
   "source": [
    "plt.figure()\n",
    "b.B2.plot()\n",
    "plt.legend([\"B2\"])\n",
    "plt.ylabel(\"Buffer Level (parts)\")\n",
    "plt.xlabel(\"Time (min)\")\n",
    "plt.title(\"Buffer Level Graph {}\".format(filenum))\n",
    "plt.savefig(\"BL{}.png\".format(filenum), dpi=500)\n",
    "plt.show()"
   ]
  }
 ],
 "metadata": {
  "kernelspec": {
   "display_name": "Python 3",
   "language": "python",
   "name": "python3"
  },
  "language_info": {
   "codemirror_mode": {
    "name": "ipython",
    "version": 3
   },
   "file_extension": ".py",
   "mimetype": "text/x-python",
   "name": "python",
   "nbconvert_exporter": "python",
   "pygments_lexer": "ipython3",
   "version": "3.7.6"
  }
 },
 "nbformat": 4,
 "nbformat_minor": 2
}
