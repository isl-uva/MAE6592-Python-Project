{
 "cells": [
  {
   "cell_type": "markdown",
   "metadata": {},
   "source": [
    "# MAE6592 Python Assignment: Part II\n",
    "\n",
    "By Intelligent System Lab, University of Virginia\n"
   ]
  },
  {
   "cell_type": "code",
   "execution_count": 18,
   "metadata": {},
   "outputs": [],
   "source": [
    "import numpy as np\n",
    "import pandas as pd\n",
    "import matplotlib.pyplot as plt"
   ]
  },
  {
   "cell_type": "markdown",
   "metadata": {},
   "source": [
    "This script imports three popular packages in python\n",
    "1. numpy:  used to do scientific calculations\n",
    "2. pandas: used to serve as database\n",
    "3. pyplot: used to make charts"
   ]
  },
  {
   "cell_type": "code",
   "execution_count": 19,
   "metadata": {},
   "outputs": [],
   "source": [
    "class serial_line:\n",
    "    def __init__(self,cycle_time,buffer_capacity,buffer_initial=-1):\n",
    "        \"\"\"\n",
    "        Arguments:\n",
    "            cycle_time: the cycle time of each machine in minute, list or numpy array\n",
    "            buffer_capacity: the maximum capacity of each buffer, list or numpy array\n",
    "            buffer_initial: the initial buffer level of each buffer, zeros by default, list or numpy array\n",
    "                            \n",
    "        \"\"\"\n",
    "        self.M=len(cycle_time)                #length of the serial line\n",
    "        self.ct=cycle_time                    #cycle time\n",
    "        self.bc=buffer_capacity               #buffer capacity\n",
    "        self.slowest=np.argmax(self.ct)       #find the slowest machine\n",
    "        \n",
    "        if buffer_initial==-1:\n",
    "            self.bi=np.zeros(self.M-1)        #if initial buffer levels are not specified, start from zero\n",
    "        else:\n",
    "            self.bi=np.array(buffer_initial)  #initial buffer level\n",
    "        \n",
    "        \"\"\"calculate buffer boundary\"\"\"\n",
    "        self.beta=np.zeros((self.M,self.M))\n",
    "        for i in range(self.M):\n",
    "            for j in range(self.M):\n",
    "                self.beta[i,j]=(sum(self.bc[i:j])-sum(self.bi[i:j]))\\\n",
    "                *(i<j)+sum(self.bi[j:i])*(i>j)\n",
    "\n",
    "    def run(self,T,downtime,decimal=0):\n",
    "        \"\"\"\n",
    "        Arguments:\n",
    "            T: the total simulation time length in minute, int\n",
    "            downtime: the downtime/ow you want to insert, tuple or list\n",
    "                      ([[1st_timeofow,1st_durationofow],[2nd_timeofow,2nd_durationofow]]     #machine 1\n",
    "                      [],                                                                    #machine 2, blank list if no ow inserted\n",
    "                      ...,                                                                   #...\n",
    "                      [[1st_timeofow,1st_durationofow]])                                     #machine M\n",
    "            decimal: the decimals in the simulation time horizon, zero by default, int\n",
    "        Return:\n",
    "            stepwise buffer levels\n",
    "            stepwise production counts\n",
    "        \"\"\"\n",
    "        tpoints=T*(10**decimal)+1\n",
    "\n",
    "        b=np.zeros((self.M-1,tpoints))         #buffer level\n",
    "        b[:,0]=self.bi                         #initial buffer level\n",
    "        pc=np.zeros((self.M,tpoints))          #production counts\n",
    "        \n",
    "        self.w=np.zeros((self.M,tpoints))      #generate downtime list according to downtime input\n",
    "        for i in range(self.M):\n",
    "            for j in downtime[i]:\n",
    "                self.w[i,np.int(np.round(j[0]*(10**decimal))):\\\n",
    "                       np.int(np.round((j[0]+j[1])*(10**decimal)))]=1         #w=1 if the machine is down at the time step\n",
    "        \n",
    "        for t in range(1,tpoints):\n",
    "            pc[:,t]=pc[:,t-1]+(1-self.w[:,t-1])/self.ct/(10**decimal)\n",
    "            for i in range(self.M):\n",
    "                temp=self.beta[i,:]+pc[:,t]\n",
    "                pc[i,t]=np.min(temp)\n",
    "            b[:,t]=pc[:self.M-1,t]-pc[1:,t]+self.bi                          #calculate buffer levels\n",
    "        \n",
    "        time=np.round(np.linspace(0,T,tpoints),decimals=decimal)             #generate time steps\n",
    "        self.b=pd.DataFrame(b.T,\n",
    "                            index=time,\n",
    "                            columns=[\"B\"+str(x) for x in range(2,self.M+1)]) #store results to pandas dataframe\n",
    "        self.b=self.b.round(np.max((6,decimal)))                             #round results to remove numerical errors\n",
    "        \n",
    "        self.pc=pd.DataFrame(pc.T,\n",
    "                             index=time,\n",
    "                             columns=[\"M\"+str(x) for x in range(1,self.M+1)])\n",
    "        self.pc=self.pc.round(np.max((6,decimal)))\n",
    "        \n",
    "        return self.b,self.pc"
   ]
  },
  {
   "cell_type": "markdown",
   "metadata": {},
   "source": [
    "The above codes construct a 'class' for the serial production line.\n"
   ]
  },
  {
   "cell_type": "code",
   "execution_count": null,
   "metadata": {},
   "outputs": [],
   "source": [
    "\"\"\"Input simulation time length (minute)\"\"\"\n",
    "T=16*60"
   ]
  },
  {
   "cell_type": "code",
   "execution_count": 20,
   "metadata": {},
   "outputs": [],
   "source": [
    "\"\"\"Input cylce time (minunte)\"\"\"\n",
    "cycle_time=[1/5,\n",
    "            1/2,\n",
    "            1/4,\n",
    "            1/3]\n"
   ]
  },
  {
   "cell_type": "code",
   "execution_count": null,
   "metadata": {},
   "outputs": [],
   "source": [
    "\"\"\"Input maximum buffer capacities (parts)\"\"\"\n",
    "buffer_capacity=[100,\n",
    "                 200,\n",
    "                 200]\n"
   ]
  },
  {
   "cell_type": "code",
   "execution_count": null,
   "metadata": {},
   "outputs": [],
   "source": [
    "\"\"\"Input initial buffer levels (parts)\"\"\"\n",
    "buffer_initial=[50,\n",
    "                100,\n",
    "                100]\n"
   ]
  },
  {
   "cell_type": "code",
   "execution_count": null,
   "metadata": {},
   "outputs": [],
   "source": [
    "\"\"\"Input opportunity windows\"\"\"\n",
    "downtime=([],\n",
    "          [],\n",
    "          [],\n",
    "          [])\n"
   ]
  },
  {
   "cell_type": "markdown",
   "metadata": {},
   "source": [
    "For example, to input the following opportunity windows\n",
    "    machine 1: stops at t=10min and lasts for 25min, stops at t=80min and lasts for 20min\n",
    "    machine 2: no opportunity window\n",
    "    machine 3: stops at t=50min and lasts for 10min\n",
    "    machine 4: no opportunity window\n",
    "\n",
    "Then, you can input the opportunity window as followings:\n",
    "<br>    downtime=([[10,25],[80,20]],\n",
    "<br>              [],\n",
    "<br>              [[50,10]],\n",
    "<br>              [])\n",
    "\n",
    "You may follow the format of the example to input your own opportunity windows. Be careful with the usage of square barackts."
   ]
  },
  {
   "cell_type": "code",
   "execution_count": 21,
   "metadata": {},
   "outputs": [],
   "source": [
    "line2=serial_line(cycle_time,buffer_capacity,buffer_initial)     #construct serial production line with the given parameters\n",
    "b,pc=line2.run(T,downtime,decimal=2)                             #run the serial production line and get results"
   ]
  },
  {
   "cell_type": "code",
   "execution_count": 22,
   "metadata": {
    "scrolled": true
   },
   "outputs": [
    {
     "name": "stdout",
     "output_type": "stream",
     "text": [
      "\n",
      "Production Count of Machine 1 = 1970.0\n",
      "Production Count of Machine 2 = 1920.0\n",
      "Production Count of Machine 3 = 2020.0\n",
      "Production Count of Machine 4 = 2120.0 \n",
      "\n"
     ]
    }
   ],
   "source": [
    "print(\"\\nProduction Count of Machine 1 =\",pc.M1.iloc[-1])             #index -1 points to the last element\n",
    "print(\"Production Count of Machine 2 =\",pc.M2.iloc[-1])\n",
    "print(\"Production Count of Machine 3 =\",pc.M3.iloc[-1])\n",
    "print(\"Production Count of Machine 4 =\",pc.M4.iloc[-1],\"\\n\")"
   ]
  },
  {
   "cell_type": "code",
   "execution_count": 23,
   "metadata": {
    "scrolled": true
   },
   "outputs": [
    {
     "name": "stdout",
     "output_type": "stream",
     "text": [
      "\n",
      "Buffer Level of Buffer 2 at t = 50 mins = 100.0\n",
      "Buffer Level of Buffer 2 at t = 50 mins = 0.0\n",
      "Buffer Level of Buffer 2 at t = 50 mins = 150.0 \n",
      "\n"
     ]
    }
   ],
   "source": [
    "print(\"\\nBuffer Level of Buffer 2 at t = 50 mins =\",b.B2[50])\n",
    "print(\"Buffer Level of Buffer 2 at t = 50 mins =\",b.B3[50])\n",
    "print(\"Buffer Level of Buffer 2 at t = 50 mins =\",b.B4[50],\"\\n\")"
   ]
  },
  {
   "cell_type": "markdown",
   "metadata": {},
   "source": [
    "You may want to add some more lines down here to plot the chart you want.\n",
    "You may refer to the codes in part 1 when making your own chart."
   ]
  },
  {
   "cell_type": "code",
   "execution_count": 24,
   "metadata": {},
   "outputs": [],
   "source": [
    "#add you code here\n",
    "\n"
   ]
  }
 ],
 "metadata": {
  "kernelspec": {
   "display_name": "Python 3",
   "language": "python",
   "name": "python3"
  },
  "language_info": {
   "codemirror_mode": {
    "name": "ipython",
    "version": 3
   },
   "file_extension": ".py",
   "mimetype": "text/x-python",
   "name": "python",
   "nbconvert_exporter": "python",
   "pygments_lexer": "ipython3",
   "version": "3.7.1"
  }
 },
 "nbformat": 4,
 "nbformat_minor": 2
}
